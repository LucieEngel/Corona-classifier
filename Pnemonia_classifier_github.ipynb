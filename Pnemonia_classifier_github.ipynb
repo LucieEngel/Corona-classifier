{
  "nbformat": 4,
  "nbformat_minor": 0,
  "metadata": {
    "colab": {
      "name": "Pnemonia_classifier.ipynb",
      "provenance": [],
      "include_colab_link": true
    },
    "kernelspec": {
      "name": "python3",
      "display_name": "Python 3"
    },
    "language_info": {
      "name": "python"
    },
    "accelerator": "GPU"
  },
  "cells": [
    {
      "cell_type": "markdown",
      "metadata": {
        "id": "view-in-github",
        "colab_type": "text"
      },
      "source": [
        "<a href=\"https://colab.research.google.com/github/LucieEngel/Pneumonia-classifier/blob/main/Pnemonia_classifier_github.ipynb\" target=\"_parent\"><img src=\"https://colab.research.google.com/assets/colab-badge.svg\" alt=\"Open In Colab\"/></a>"
      ]
    },
    {
      "cell_type": "markdown",
      "metadata": {
        "id": "LYq4dAYVToZ9"
      },
      "source": [
        "#Pneumonia - classifier from chest X-rays"
      ]
    },
    {
      "cell_type": "markdown",
      "metadata": {
        "id": "uZiCDO7KW1Da"
      },
      "source": [
        "Import packages"
      ]
    },
    {
      "cell_type": "code",
      "metadata": {
        "id": "cJkkxwRbW0Xv"
      },
      "source": [
        "import os, warnings\n",
        "import matplotlib.pyplot as plt\n",
        "from matplotlib import gridspec\n",
        "import pandas as pd\n",
        "\n",
        "import numpy as np\n",
        "import tensorflow as tf\n",
        "from tensorflow.keras.preprocessing import image_dataset_from_directory"
      ],
      "execution_count": 1,
      "outputs": []
    },
    {
      "cell_type": "code",
      "metadata": {
        "colab": {
          "base_uri": "https://localhost:8080/",
          "height": 37
        },
        "id": "oTa1H3w1uJbm",
        "outputId": "1ec4b009-247f-4735-a5fe-024b4f8c17d2"
      },
      "source": [
        "tf.test.gpu_device_name()"
      ],
      "execution_count": 2,
      "outputs": [
        {
          "output_type": "execute_result",
          "data": {
            "application/vnd.google.colaboratory.intrinsic+json": {
              "type": "string"
            },
            "text/plain": [
              "'/device:GPU:0'"
            ]
          },
          "metadata": {},
          "execution_count": 2
        }
      ]
    },
    {
      "cell_type": "markdown",
      "metadata": {
        "id": "klwMke2ZWYqk"
      },
      "source": [
        "## Step 1 : Load data"
      ]
    },
    {
      "cell_type": "code",
      "metadata": {
        "colab": {
          "base_uri": "https://localhost:8080/"
        },
        "id": "9fVZyXgFa85B",
        "outputId": "639d866d-cddd-4735-e9ed-b777f4de9396"
      },
      "source": [
        "# Connect to my drive \n",
        "from google.colab import drive\n",
        "drive.mount('/content/drive/')"
      ],
      "execution_count": 3,
      "outputs": [
        {
          "output_type": "stream",
          "name": "stdout",
          "text": [
            "Mounted at /content/drive/\n"
          ]
        }
      ]
    },
    {
      "cell_type": "code",
      "metadata": {
        "id": "1g6ZjOhRb5y7"
      },
      "source": [
        "# Change current directory \n",
        "os.chdir(\"drive/My Drive/Colab Notebooks\")"
      ],
      "execution_count": 5,
      "outputs": []
    },
    {
      "cell_type": "code",
      "metadata": {
        "colab": {
          "base_uri": "https://localhost:8080/",
          "height": 266
        },
        "id": "3kevxI8ClkI6",
        "outputId": "81438549-1f2f-419e-8bcd-baa61ce9532c"
      },
      "source": [
        "# Read dataset summary\n",
        "pd.read_csv('archive/Chest_xray_Corona_dataset_Summary.csv', index_col=0)"
      ],
      "execution_count": 6,
      "outputs": [
        {
          "output_type": "execute_result",
          "data": {
            "text/html": [
              "<div>\n",
              "<style scoped>\n",
              "    .dataframe tbody tr th:only-of-type {\n",
              "        vertical-align: middle;\n",
              "    }\n",
              "\n",
              "    .dataframe tbody tr th {\n",
              "        vertical-align: top;\n",
              "    }\n",
              "\n",
              "    .dataframe thead th {\n",
              "        text-align: right;\n",
              "    }\n",
              "</style>\n",
              "<table border=\"1\" class=\"dataframe\">\n",
              "  <thead>\n",
              "    <tr style=\"text-align: right;\">\n",
              "      <th></th>\n",
              "      <th>Label</th>\n",
              "      <th>Label_1_Virus_category</th>\n",
              "      <th>Label_2_Virus_category</th>\n",
              "      <th>Image_Count</th>\n",
              "    </tr>\n",
              "  </thead>\n",
              "  <tbody>\n",
              "    <tr>\n",
              "      <th>0</th>\n",
              "      <td>Normal</td>\n",
              "      <td>NaN</td>\n",
              "      <td>NaN</td>\n",
              "      <td>1576</td>\n",
              "    </tr>\n",
              "    <tr>\n",
              "      <th>1</th>\n",
              "      <td>Pnemonia</td>\n",
              "      <td>Stress-Smoking</td>\n",
              "      <td>ARDS</td>\n",
              "      <td>2</td>\n",
              "    </tr>\n",
              "    <tr>\n",
              "      <th>2</th>\n",
              "      <td>Pnemonia</td>\n",
              "      <td>Virus</td>\n",
              "      <td>NaN</td>\n",
              "      <td>1493</td>\n",
              "    </tr>\n",
              "    <tr>\n",
              "      <th>3</th>\n",
              "      <td>Pnemonia</td>\n",
              "      <td>Virus</td>\n",
              "      <td>COVID-19</td>\n",
              "      <td>58</td>\n",
              "    </tr>\n",
              "    <tr>\n",
              "      <th>4</th>\n",
              "      <td>Pnemonia</td>\n",
              "      <td>Virus</td>\n",
              "      <td>SARS</td>\n",
              "      <td>4</td>\n",
              "    </tr>\n",
              "    <tr>\n",
              "      <th>5</th>\n",
              "      <td>Pnemonia</td>\n",
              "      <td>bacteria</td>\n",
              "      <td>NaN</td>\n",
              "      <td>2772</td>\n",
              "    </tr>\n",
              "    <tr>\n",
              "      <th>6</th>\n",
              "      <td>Pnemonia</td>\n",
              "      <td>bacteria</td>\n",
              "      <td>Streptococcus</td>\n",
              "      <td>5</td>\n",
              "    </tr>\n",
              "  </tbody>\n",
              "</table>\n",
              "</div>"
            ],
            "text/plain": [
              "      Label Label_1_Virus_category Label_2_Virus_category  Image_Count\n",
              "0    Normal                    NaN                    NaN         1576\n",
              "1  Pnemonia         Stress-Smoking                   ARDS            2\n",
              "2  Pnemonia                  Virus                    NaN         1493\n",
              "3  Pnemonia                  Virus               COVID-19           58\n",
              "4  Pnemonia                  Virus                   SARS            4\n",
              "5  Pnemonia               bacteria                    NaN         2772\n",
              "6  Pnemonia               bacteria          Streptococcus            5"
            ]
          },
          "metadata": {},
          "execution_count": 6
        }
      ]
    },
    {
      "cell_type": "code",
      "metadata": {
        "colab": {
          "base_uri": "https://localhost:8080/",
          "height": 419
        },
        "id": "z66gKJJimBoo",
        "outputId": "c89688b9-726a-4f1e-fb64-4059e29e6685"
      },
      "source": [
        "# Read meta data \n",
        "meta_data = pd.read_csv('archive/Chest_xray_Corona_Metadata.csv', index_col=0)\n",
        "meta_data"
      ],
      "execution_count": 7,
      "outputs": [
        {
          "output_type": "execute_result",
          "data": {
            "text/html": [
              "<div>\n",
              "<style scoped>\n",
              "    .dataframe tbody tr th:only-of-type {\n",
              "        vertical-align: middle;\n",
              "    }\n",
              "\n",
              "    .dataframe tbody tr th {\n",
              "        vertical-align: top;\n",
              "    }\n",
              "\n",
              "    .dataframe thead th {\n",
              "        text-align: right;\n",
              "    }\n",
              "</style>\n",
              "<table border=\"1\" class=\"dataframe\">\n",
              "  <thead>\n",
              "    <tr style=\"text-align: right;\">\n",
              "      <th></th>\n",
              "      <th>X_ray_image_name</th>\n",
              "      <th>Label</th>\n",
              "      <th>Dataset_type</th>\n",
              "      <th>Label_2_Virus_category</th>\n",
              "      <th>Label_1_Virus_category</th>\n",
              "    </tr>\n",
              "  </thead>\n",
              "  <tbody>\n",
              "    <tr>\n",
              "      <th>0</th>\n",
              "      <td>IM-0128-0001.jpeg</td>\n",
              "      <td>Normal</td>\n",
              "      <td>TRAIN</td>\n",
              "      <td>NaN</td>\n",
              "      <td>NaN</td>\n",
              "    </tr>\n",
              "    <tr>\n",
              "      <th>1</th>\n",
              "      <td>IM-0127-0001.jpeg</td>\n",
              "      <td>Normal</td>\n",
              "      <td>TRAIN</td>\n",
              "      <td>NaN</td>\n",
              "      <td>NaN</td>\n",
              "    </tr>\n",
              "    <tr>\n",
              "      <th>2</th>\n",
              "      <td>IM-0125-0001.jpeg</td>\n",
              "      <td>Normal</td>\n",
              "      <td>TRAIN</td>\n",
              "      <td>NaN</td>\n",
              "      <td>NaN</td>\n",
              "    </tr>\n",
              "    <tr>\n",
              "      <th>3</th>\n",
              "      <td>IM-0122-0001.jpeg</td>\n",
              "      <td>Normal</td>\n",
              "      <td>TRAIN</td>\n",
              "      <td>NaN</td>\n",
              "      <td>NaN</td>\n",
              "    </tr>\n",
              "    <tr>\n",
              "      <th>4</th>\n",
              "      <td>IM-0119-0001.jpeg</td>\n",
              "      <td>Normal</td>\n",
              "      <td>TRAIN</td>\n",
              "      <td>NaN</td>\n",
              "      <td>NaN</td>\n",
              "    </tr>\n",
              "    <tr>\n",
              "      <th>...</th>\n",
              "      <td>...</td>\n",
              "      <td>...</td>\n",
              "      <td>...</td>\n",
              "      <td>...</td>\n",
              "      <td>...</td>\n",
              "    </tr>\n",
              "    <tr>\n",
              "      <th>5928</th>\n",
              "      <td>person1637_virus_2834.jpeg</td>\n",
              "      <td>Pnemonia</td>\n",
              "      <td>TEST</td>\n",
              "      <td>NaN</td>\n",
              "      <td>Virus</td>\n",
              "    </tr>\n",
              "    <tr>\n",
              "      <th>5929</th>\n",
              "      <td>person1635_virus_2831.jpeg</td>\n",
              "      <td>Pnemonia</td>\n",
              "      <td>TEST</td>\n",
              "      <td>NaN</td>\n",
              "      <td>Virus</td>\n",
              "    </tr>\n",
              "    <tr>\n",
              "      <th>5930</th>\n",
              "      <td>person1634_virus_2830.jpeg</td>\n",
              "      <td>Pnemonia</td>\n",
              "      <td>TEST</td>\n",
              "      <td>NaN</td>\n",
              "      <td>Virus</td>\n",
              "    </tr>\n",
              "    <tr>\n",
              "      <th>5931</th>\n",
              "      <td>person1633_virus_2829.jpeg</td>\n",
              "      <td>Pnemonia</td>\n",
              "      <td>TEST</td>\n",
              "      <td>NaN</td>\n",
              "      <td>Virus</td>\n",
              "    </tr>\n",
              "    <tr>\n",
              "      <th>5932</th>\n",
              "      <td>person1632_virus_2827.jpeg</td>\n",
              "      <td>Pnemonia</td>\n",
              "      <td>TEST</td>\n",
              "      <td>NaN</td>\n",
              "      <td>Virus</td>\n",
              "    </tr>\n",
              "  </tbody>\n",
              "</table>\n",
              "<p>5910 rows × 5 columns</p>\n",
              "</div>"
            ],
            "text/plain": [
              "                X_ray_image_name  ... Label_1_Virus_category\n",
              "0              IM-0128-0001.jpeg  ...                    NaN\n",
              "1              IM-0127-0001.jpeg  ...                    NaN\n",
              "2              IM-0125-0001.jpeg  ...                    NaN\n",
              "3              IM-0122-0001.jpeg  ...                    NaN\n",
              "4              IM-0119-0001.jpeg  ...                    NaN\n",
              "...                          ...  ...                    ...\n",
              "5928  person1637_virus_2834.jpeg  ...                  Virus\n",
              "5929  person1635_virus_2831.jpeg  ...                  Virus\n",
              "5930  person1634_virus_2830.jpeg  ...                  Virus\n",
              "5931  person1633_virus_2829.jpeg  ...                  Virus\n",
              "5932  person1632_virus_2827.jpeg  ...                  Virus\n",
              "\n",
              "[5910 rows x 5 columns]"
            ]
          },
          "metadata": {},
          "execution_count": 7
        }
      ]
    },
    {
      "cell_type": "code",
      "metadata": {
        "colab": {
          "base_uri": "https://localhost:8080/"
        },
        "id": "TrPWoezfACDx",
        "outputId": "43fe8353-7034-4a1f-86b1-864584e1f10f"
      },
      "source": [
        "len(meta_data[(meta_data.Dataset_type == 'TRAIN') & (meta_data.Label == 'Pnemonia')])/len(meta_data[(meta_data.Dataset_type == 'TRAIN')])"
      ],
      "execution_count": 9,
      "outputs": [
        {
          "output_type": "execute_result",
          "data": {
            "text/plain": [
              "0.7461218312523648"
            ]
          },
          "metadata": {},
          "execution_count": 9
        }
      ]
    },
    {
      "cell_type": "code",
      "metadata": {
        "colab": {
          "base_uri": "https://localhost:8080/"
        },
        "id": "ZoyQEcJ3s4XC",
        "outputId": "b9d6e004-cb33-47fb-9068-e349287d1d25"
      },
      "source": [
        "meta_data.Dataset_type.value_counts()"
      ],
      "execution_count": 10,
      "outputs": [
        {
          "output_type": "execute_result",
          "data": {
            "text/plain": [
              "TRAIN    5286\n",
              "TEST      624\n",
              "Name: Dataset_type, dtype: int64"
            ]
          },
          "metadata": {},
          "execution_count": 10
        }
      ]
    },
    {
      "cell_type": "code",
      "metadata": {
        "colab": {
          "base_uri": "https://localhost:8080/",
          "height": 204
        },
        "id": "dg0jkBnOtPYr",
        "outputId": "5118c69c-afcc-440b-b009-ccc419996855"
      },
      "source": [
        "# Define training labels \n",
        "\n",
        "traindf = meta_data.loc[meta_data.Dataset_type==\"TRAIN\"]\n",
        "traindf.head()"
      ],
      "execution_count": 11,
      "outputs": [
        {
          "output_type": "execute_result",
          "data": {
            "text/html": [
              "<div>\n",
              "<style scoped>\n",
              "    .dataframe tbody tr th:only-of-type {\n",
              "        vertical-align: middle;\n",
              "    }\n",
              "\n",
              "    .dataframe tbody tr th {\n",
              "        vertical-align: top;\n",
              "    }\n",
              "\n",
              "    .dataframe thead th {\n",
              "        text-align: right;\n",
              "    }\n",
              "</style>\n",
              "<table border=\"1\" class=\"dataframe\">\n",
              "  <thead>\n",
              "    <tr style=\"text-align: right;\">\n",
              "      <th></th>\n",
              "      <th>X_ray_image_name</th>\n",
              "      <th>Label</th>\n",
              "      <th>Dataset_type</th>\n",
              "      <th>Label_2_Virus_category</th>\n",
              "      <th>Label_1_Virus_category</th>\n",
              "    </tr>\n",
              "  </thead>\n",
              "  <tbody>\n",
              "    <tr>\n",
              "      <th>0</th>\n",
              "      <td>IM-0128-0001.jpeg</td>\n",
              "      <td>Normal</td>\n",
              "      <td>TRAIN</td>\n",
              "      <td>NaN</td>\n",
              "      <td>NaN</td>\n",
              "    </tr>\n",
              "    <tr>\n",
              "      <th>1</th>\n",
              "      <td>IM-0127-0001.jpeg</td>\n",
              "      <td>Normal</td>\n",
              "      <td>TRAIN</td>\n",
              "      <td>NaN</td>\n",
              "      <td>NaN</td>\n",
              "    </tr>\n",
              "    <tr>\n",
              "      <th>2</th>\n",
              "      <td>IM-0125-0001.jpeg</td>\n",
              "      <td>Normal</td>\n",
              "      <td>TRAIN</td>\n",
              "      <td>NaN</td>\n",
              "      <td>NaN</td>\n",
              "    </tr>\n",
              "    <tr>\n",
              "      <th>3</th>\n",
              "      <td>IM-0122-0001.jpeg</td>\n",
              "      <td>Normal</td>\n",
              "      <td>TRAIN</td>\n",
              "      <td>NaN</td>\n",
              "      <td>NaN</td>\n",
              "    </tr>\n",
              "    <tr>\n",
              "      <th>4</th>\n",
              "      <td>IM-0119-0001.jpeg</td>\n",
              "      <td>Normal</td>\n",
              "      <td>TRAIN</td>\n",
              "      <td>NaN</td>\n",
              "      <td>NaN</td>\n",
              "    </tr>\n",
              "  </tbody>\n",
              "</table>\n",
              "</div>"
            ],
            "text/plain": [
              "    X_ray_image_name   Label  ... Label_2_Virus_category Label_1_Virus_category\n",
              "0  IM-0128-0001.jpeg  Normal  ...                    NaN                    NaN\n",
              "1  IM-0127-0001.jpeg  Normal  ...                    NaN                    NaN\n",
              "2  IM-0125-0001.jpeg  Normal  ...                    NaN                    NaN\n",
              "3  IM-0122-0001.jpeg  Normal  ...                    NaN                    NaN\n",
              "4  IM-0119-0001.jpeg  Normal  ...                    NaN                    NaN\n",
              "\n",
              "[5 rows x 5 columns]"
            ]
          },
          "metadata": {},
          "execution_count": 11
        }
      ]
    },
    {
      "cell_type": "code",
      "metadata": {
        "colab": {
          "base_uri": "https://localhost:8080/",
          "height": 204
        },
        "id": "UOLwdRPftRjv",
        "outputId": "35d72f9d-c759-4d6b-f133-dcfaa2951af3"
      },
      "source": [
        "# Define testing labels \n",
        "\n",
        "testdf = meta_data.loc[meta_data.Dataset_type==\"TEST\"]\n",
        "testdf.head()"
      ],
      "execution_count": 12,
      "outputs": [
        {
          "output_type": "execute_result",
          "data": {
            "text/html": [
              "<div>\n",
              "<style scoped>\n",
              "    .dataframe tbody tr th:only-of-type {\n",
              "        vertical-align: middle;\n",
              "    }\n",
              "\n",
              "    .dataframe tbody tr th {\n",
              "        vertical-align: top;\n",
              "    }\n",
              "\n",
              "    .dataframe thead th {\n",
              "        text-align: right;\n",
              "    }\n",
              "</style>\n",
              "<table border=\"1\" class=\"dataframe\">\n",
              "  <thead>\n",
              "    <tr style=\"text-align: right;\">\n",
              "      <th></th>\n",
              "      <th>X_ray_image_name</th>\n",
              "      <th>Label</th>\n",
              "      <th>Dataset_type</th>\n",
              "      <th>Label_2_Virus_category</th>\n",
              "      <th>Label_1_Virus_category</th>\n",
              "    </tr>\n",
              "  </thead>\n",
              "  <tbody>\n",
              "    <tr>\n",
              "      <th>5309</th>\n",
              "      <td>IM-0021-0001.jpeg</td>\n",
              "      <td>Normal</td>\n",
              "      <td>TEST</td>\n",
              "      <td>NaN</td>\n",
              "      <td>NaN</td>\n",
              "    </tr>\n",
              "    <tr>\n",
              "      <th>5310</th>\n",
              "      <td>IM-0019-0001.jpeg</td>\n",
              "      <td>Normal</td>\n",
              "      <td>TEST</td>\n",
              "      <td>NaN</td>\n",
              "      <td>NaN</td>\n",
              "    </tr>\n",
              "    <tr>\n",
              "      <th>5311</th>\n",
              "      <td>IM-0017-0001.jpeg</td>\n",
              "      <td>Normal</td>\n",
              "      <td>TEST</td>\n",
              "      <td>NaN</td>\n",
              "      <td>NaN</td>\n",
              "    </tr>\n",
              "    <tr>\n",
              "      <th>5312</th>\n",
              "      <td>IM-0016-0001.jpeg</td>\n",
              "      <td>Normal</td>\n",
              "      <td>TEST</td>\n",
              "      <td>NaN</td>\n",
              "      <td>NaN</td>\n",
              "    </tr>\n",
              "    <tr>\n",
              "      <th>5313</th>\n",
              "      <td>IM-0015-0001.jpeg</td>\n",
              "      <td>Normal</td>\n",
              "      <td>TEST</td>\n",
              "      <td>NaN</td>\n",
              "      <td>NaN</td>\n",
              "    </tr>\n",
              "  </tbody>\n",
              "</table>\n",
              "</div>"
            ],
            "text/plain": [
              "       X_ray_image_name   Label  ... Label_2_Virus_category Label_1_Virus_category\n",
              "5309  IM-0021-0001.jpeg  Normal  ...                    NaN                    NaN\n",
              "5310  IM-0019-0001.jpeg  Normal  ...                    NaN                    NaN\n",
              "5311  IM-0017-0001.jpeg  Normal  ...                    NaN                    NaN\n",
              "5312  IM-0016-0001.jpeg  Normal  ...                    NaN                    NaN\n",
              "5313  IM-0015-0001.jpeg  Normal  ...                    NaN                    NaN\n",
              "\n",
              "[5 rows x 5 columns]"
            ]
          },
          "metadata": {},
          "execution_count": 12
        }
      ]
    },
    {
      "cell_type": "code",
      "metadata": {
        "id": "GzRIJyOMwjgg"
      },
      "source": [
        "from keras_preprocessing.image import ImageDataGenerator\n",
        "datagen = ImageDataGenerator(rescale = 1./255., validation_split = 0.1)"
      ],
      "execution_count": 13,
      "outputs": []
    },
    {
      "cell_type": "code",
      "metadata": {
        "colab": {
          "base_uri": "https://localhost:8080/"
        },
        "id": "ZtRsKxQtw-wW",
        "outputId": "97ac495a-ecc8-49e5-b470-68143b05d954"
      },
      "source": [
        "# Train generator\n",
        "\n",
        "train_generator=datagen.flow_from_dataframe(\n",
        "    dataframe = traindf,\n",
        "    directory = 'archive/Coronahack-Chest-XRay-Dataset/Coronahack-Chest-XRay-Dataset/train',\n",
        "    x_col = 'X_ray_image_name',\n",
        "    y_col = 'Label',\n",
        "    subset = \"training\",\n",
        "    batch_size = 32,\n",
        "    seed = 42, \n",
        "    shuffle = True,\n",
        "    classes=['Normal', 'Pnemonia'],\n",
        "    class_mode='binary',\n",
        "    target_size = (128, 128))\n",
        "\n",
        "valid_generator=datagen.flow_from_dataframe(\n",
        "    dataframe = traindf,\n",
        "    directory = 'archive/Coronahack-Chest-XRay-Dataset/Coronahack-Chest-XRay-Dataset/train',\n",
        "    x_col = 'X_ray_image_name',\n",
        "    y_col = 'Label',\n",
        "    subset = \"validation\",\n",
        "    batch_size = 32,\n",
        "    seed = 42, \n",
        "    shuffle = True,\n",
        "    classes=['Normal', 'Pnemonia'],\n",
        "    class_mode='binary',\n",
        "    target_size = (128, 128))\n",
        "\n",
        "test_datagen = ImageDataGenerator(rescale = 1./255.)\n",
        "\n",
        "test_generator=test_datagen.flow_from_dataframe(\n",
        "    dataframe = testdf,\n",
        "    directory = 'archive/Coronahack-Chest-XRay-Dataset/Coronahack-Chest-XRay-Dataset/test',\n",
        "    x_col = 'X_ray_image_name',\n",
        "    y_col = 'Label',\n",
        "    batch_size = 32,\n",
        "    seed = 42, \n",
        "    shuffle = True,\n",
        "    classes=['Normal', 'Pnemonia'],\n",
        "    class_mode='binary',\n",
        "    target_size = (128, 128))"
      ],
      "execution_count": 15,
      "outputs": [
        {
          "output_type": "stream",
          "name": "stdout",
          "text": [
            "Found 4758 validated image filenames belonging to 2 classes.\n",
            "Found 528 validated image filenames belonging to 2 classes.\n",
            "Found 624 validated image filenames belonging to 2 classes.\n"
          ]
        }
      ]
    },
    {
      "cell_type": "code",
      "metadata": {
        "colab": {
          "base_uri": "https://localhost:8080/"
        },
        "id": "UWsYl4VzrNKy",
        "outputId": "96392bca-8d07-4207-9351-6abc35321fac"
      },
      "source": [
        "train_generator.class_indices"
      ],
      "execution_count": 16,
      "outputs": [
        {
          "output_type": "execute_result",
          "data": {
            "text/plain": [
              "{'Normal': 0, 'Pnemonia': 1}"
            ]
          },
          "metadata": {},
          "execution_count": 16
        }
      ]
    },
    {
      "cell_type": "code",
      "metadata": {
        "cellView": "form",
        "collapsed": true,
        "id": "83Ukt7GCWtwi"
      },
      "source": [
        "#@title\n",
        "# #@title\n",
        "# # Reproducability\n",
        "# def set_seed(seed=31415):\n",
        "#     np.random.seed(seed)\n",
        "#     tf.random.set_seed(seed)\n",
        "#     os.environ['PYTHONHASHSEED'] = str(seed)\n",
        "#     os.environ['TF_DETERMINISTIC_OPS'] = '1'\n",
        "# set_seed()\n",
        "\n",
        "# # Set Matplotlib defaults\n",
        "# plt.rc('figure', autolayout=True)\n",
        "# plt.rc('axes', labelweight='bold', labelsize='large',\n",
        "#        titleweight='bold', titlesize=18, titlepad=10)\n",
        "# plt.rc('image', cmap='magma')\n",
        "# warnings.filterwarnings(\"ignore\") # to clean up output cells\n",
        "\n",
        "\n",
        "# # Load training and validation sets\n",
        "# # ds_train_ = image_dataset_from_directory(\n",
        "# #     'archive/Coronahack-Chest-XRay-Dataset/Coronahack-Chest-XRay-Dataset/train',\n",
        "# #     labels='inferred',\n",
        "# #     label_mode='binary',\n",
        "# #     image_size=[128, 128],\n",
        "# #     interpolation='nearest',\n",
        "# #     validation_split = 0.3,\n",
        "# #     subset = \"training\"\n",
        "# #     batch_size=64,\n",
        "# #     shuffle=True,\n",
        "# # )\n",
        "\n",
        "# # ds_valid_ = image_dataset_from_directory(\n",
        "# #     'archive/Coronahack-Chest-XRay-Dataset/Coronahack-Chest-XRay-Dataset/train',\n",
        "# #     labels='inferred',\n",
        "# #     label_mode='binary',\n",
        "# #     image_size=[128, 128],\n",
        "# #     interpolation='nearest',\n",
        "# #     validation_split = 0.3,\n",
        "# #     subset = \"validation\"\n",
        "# #     batch_size=64,\n",
        "# #     shuffle=True,\n",
        "# # )\n",
        "\n",
        "# # ds_test_ = image_dataset_from_directory(\n",
        "# #     'archive/Coronahack-Chest-XRay-Dataset/Coronahack-Chest-XRay-Dataset/test',\n",
        "# #     labels='inferred',\n",
        "# #     label_mode='binary',\n",
        "# #     image_size=[128, 128],\n",
        "# #     interpolation='nearest',\n",
        "# #     batch_size=64,\n",
        "# #     shuffle=False,\n",
        "# # )\n",
        "\n",
        "\n",
        "\n",
        "\n",
        "\n",
        "\n",
        "# # Data Pipeline\n",
        "# def convert_to_float(image, label):\n",
        "#     image = tf.image.convert_image_dtype(image, dtype=tf.float32)\n",
        "#     return image, label\n",
        "\n",
        "# AUTOTUNE = tf.data.experimental.AUTOTUNE\n",
        "\n",
        "# ds_train = (\n",
        "#     ds_train_\n",
        "#     .map(convert_to_float)\n",
        "#     .cache()\n",
        "#     .prefetch(buffer_size=AUTOTUNE)\n",
        "# )\n",
        "# ds_valid_ = (\n",
        "#     ds_valid_\n",
        "#     .map(convert_to_float)\n",
        "#     .cache()\n",
        "#     .prefetch(buffer_size=AUTOTUNE)\n",
        "# )"
      ],
      "execution_count": null,
      "outputs": []
    },
    {
      "cell_type": "markdown",
      "metadata": {
        "id": "2h_zea6NWbQM"
      },
      "source": [
        "##Step 2 : Define Model "
      ]
    },
    {
      "cell_type": "code",
      "metadata": {
        "id": "7W0e6XoGdMbe"
      },
      "source": [
        "from tensorflow import keras\n",
        "from tensorflow.keras import layers"
      ],
      "execution_count": 17,
      "outputs": []
    },
    {
      "cell_type": "markdown",
      "metadata": {
        "id": "cetxrqxnL3QB"
      },
      "source": [
        "Use transfer learning "
      ]
    },
    {
      "cell_type": "code",
      "metadata": {
        "id": "grmxEhFbIsfm",
        "colab": {
          "base_uri": "https://localhost:8080/"
        },
        "outputId": "e46d62c7-b7e6-4de7-af1f-4274c8f0b261"
      },
      "source": [
        "input_t = tf.keras.Input(shape=(128,128,3))\n",
        "pretrained_base = tf.keras.applications.ResNet50(include_top = False, weights = 'imagenet', input_tensor= input_t)"
      ],
      "execution_count": 18,
      "outputs": [
        {
          "output_type": "stream",
          "name": "stdout",
          "text": [
            "Downloading data from https://storage.googleapis.com/tensorflow/keras-applications/resnet/resnet50_weights_tf_dim_ordering_tf_kernels_notop.h5\n",
            "94773248/94765736 [==============================] - 1s 0us/step\n",
            "94781440/94765736 [==============================] - 1s 0us/step\n"
          ]
        }
      ]
    },
    {
      "cell_type": "code",
      "metadata": {
        "id": "OFph8orfJkz2"
      },
      "source": [
        "pretrained_base.trainable = True"
      ],
      "execution_count": 19,
      "outputs": []
    },
    {
      "cell_type": "code",
      "metadata": {
        "id": "2ZE18viEJwgt"
      },
      "source": [
        "model = keras.Sequential([\n",
        "    pretrained_base,\n",
        "    layers.Flatten(),\n",
        "    layers.Dense(64, activation='relu'),\n",
        "    layers.Dense(16, activation='relu'),\n",
        "    layers.Dense(1, activation='sigmoid'),\n",
        "])"
      ],
      "execution_count": 20,
      "outputs": []
    },
    {
      "cell_type": "code",
      "metadata": {
        "colab": {
          "base_uri": "https://localhost:8080/"
        },
        "id": "XpW0xZvHrCK5",
        "outputId": "9a0e3a26-76b5-4862-c4db-1b02ec8fed07"
      },
      "source": [
        "for i, layer in enumerate(model.layers):\n",
        "  print(i,layer.name,\"-\",layer.trainable)"
      ],
      "execution_count": 21,
      "outputs": [
        {
          "output_type": "stream",
          "name": "stdout",
          "text": [
            "0 resnet50 - True\n",
            "1 flatten - True\n",
            "2 dense - True\n",
            "3 dense_1 - True\n",
            "4 dense_2 - True\n"
          ]
        }
      ]
    },
    {
      "cell_type": "code",
      "metadata": {
        "id": "r-c0OjCfWuQt"
      },
      "source": [
        "# model = keras.Sequential([\n",
        "#     # Block One\n",
        "#     layers.Conv2D(filters=32, kernel_size=3, activation='relu', padding='same',\n",
        "#                   input_shape=[128, 128, 3]),\n",
        "#     layers.MaxPool2D(),\n",
        "\n",
        "#     # Block Two\n",
        "#     layers.Conv2D(filters=64, kernel_size=3, activation='relu', padding='same'),\n",
        "#     layers.MaxPool2D(),\n",
        "\n",
        "#     # Block Three\n",
        "#     layers.Conv2D(filters=128, kernel_size=3, activation='relu', padding='same'),\n",
        "#     layers.Conv2D(filters=128, kernel_size=3, activation='relu', padding='same'),\n",
        "#     layers.MaxPool2D(),\n",
        "    \n",
        "\n",
        "#     # Head\n",
        "#     layers.Flatten(),\n",
        "#     layers.Dense(6, activation='relu'),\n",
        "#     layers.Dropout(0.2),\n",
        "#     layers.Dense(1, activation='sigmoid'),\n",
        "# ])\n"
      ],
      "execution_count": null,
      "outputs": []
    },
    {
      "cell_type": "code",
      "metadata": {
        "colab": {
          "base_uri": "https://localhost:8080/"
        },
        "id": "KUbd1mdJdIN5",
        "outputId": "fded7374-ec34-4ded-e301-d0943d9b8e9f"
      },
      "source": [
        "model.summary()"
      ],
      "execution_count": 22,
      "outputs": [
        {
          "output_type": "stream",
          "name": "stdout",
          "text": [
            "Model: \"sequential\"\n",
            "_________________________________________________________________\n",
            " Layer (type)                Output Shape              Param #   \n",
            "=================================================================\n",
            " resnet50 (Functional)       (None, 4, 4, 2048)        23587712  \n",
            "                                                                 \n",
            " flatten (Flatten)           (None, 32768)             0         \n",
            "                                                                 \n",
            " dense (Dense)               (None, 64)                2097216   \n",
            "                                                                 \n",
            " dense_1 (Dense)             (None, 16)                1040      \n",
            "                                                                 \n",
            " dense_2 (Dense)             (None, 1)                 17        \n",
            "                                                                 \n",
            "=================================================================\n",
            "Total params: 25,685,985\n",
            "Trainable params: 25,632,865\n",
            "Non-trainable params: 53,120\n",
            "_________________________________________________________________\n"
          ]
        }
      ]
    },
    {
      "cell_type": "code",
      "metadata": {
        "id": "xlmJZZDydFiP"
      },
      "source": [
        "model.compile(\n",
        "    optimizer=tf.keras.optimizers.Adam(epsilon=0.01),\n",
        "    loss = 'binary_crossentropy',\n",
        "    metrics = ['accuracy'],\n",
        ")"
      ],
      "execution_count": 23,
      "outputs": []
    },
    {
      "cell_type": "markdown",
      "metadata": {
        "id": "1VKotQBmWgZI"
      },
      "source": [
        "## Step 3 : Train Model "
      ]
    },
    {
      "cell_type": "code",
      "metadata": {
        "colab": {
          "base_uri": "https://localhost:8080/"
        },
        "id": "5KA7-MlpWutY",
        "outputId": "bd37d545-fd8c-4531-bfcf-69896a5d9ae0"
      },
      "source": [
        "history = model.fit(\n",
        "    train_generator,\n",
        "    validation_data=valid_generator,\n",
        "    epochs=50,\n",
        ")"
      ],
      "execution_count": null,
      "outputs": [
        {
          "output_type": "stream",
          "name": "stdout",
          "text": [
            "Epoch 1/50\n",
            " 83/149 [===============>..............] - ETA: 14:51 - loss: 0.1344 - accuracy: 0.9426"
          ]
        }
      ]
    },
    {
      "cell_type": "code",
      "metadata": {
        "id": "T-frc6xIdDVX"
      },
      "source": [
        "import pandas as pd\n",
        "history_frame = pd.DataFrame(history.history)\n",
        "history_frame.loc[:, ['loss', 'val_loss']].plot()\n",
        "history_frame.loc[:, ['binary_accuracy', 'val_binary_accuracy']].plot();"
      ],
      "execution_count": null,
      "outputs": []
    },
    {
      "cell_type": "markdown",
      "metadata": {
        "id": "jK59NzBXWnx0"
      },
      "source": [
        "## Conclusion"
      ]
    }
  ]
}