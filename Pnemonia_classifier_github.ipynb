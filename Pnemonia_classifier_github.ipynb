{
  "nbformat": 4,
  "nbformat_minor": 0,
  "metadata": {
    "colab": {
      "name": "Pnemonia_classifier.ipynb",
      "provenance": [],
      "include_colab_link": true
    },
    "kernelspec": {
      "name": "python3",
      "display_name": "Python 3"
    },
    "language_info": {
      "name": "python"
    },
    "accelerator": "GPU"
  },
  "cells": [
    {
      "cell_type": "markdown",
      "metadata": {
        "id": "view-in-github",
        "colab_type": "text"
      },
      "source": [
        "<a href=\"https://colab.research.google.com/github/LucieEngel/Pneumonia-classifier/blob/main/Pnemonia_classifier_github.ipynb\" target=\"_parent\"><img src=\"https://colab.research.google.com/assets/colab-badge.svg\" alt=\"Open In Colab\"/></a>"
      ]
    },
    {
      "cell_type": "markdown",
      "metadata": {
        "id": "LYq4dAYVToZ9"
      },
      "source": [
        "#Pneumonia - classifier from chest X-rays"
      ]
    },
    {
      "cell_type": "markdown",
      "metadata": {
        "id": "uZiCDO7KW1Da"
      },
      "source": [
        "Import packages"
      ]
    },
    {
      "cell_type": "code",
      "metadata": {
        "id": "cJkkxwRbW0Xv"
      },
      "source": [
        "import os, warnings\n",
        "import matplotlib.pyplot as plt\n",
        "from matplotlib import gridspec\n",
        "import pandas as pd\n",
        "from PIL import Image\n",
        "from matplotlib.pyplot import imshow\n",
        "import numpy as np\n",
        "import tensorflow as tf\n",
        "from tensorflow.keras.preprocessing import image_dataset_from_directory"
      ],
      "execution_count": 1,
      "outputs": []
    },
    {
      "cell_type": "code",
      "metadata": {
        "colab": {
          "base_uri": "https://localhost:8080/",
          "height": 35
        },
        "id": "oTa1H3w1uJbm",
        "outputId": "540d07ba-5c64-419b-890f-3075750a1c6a"
      },
      "source": [
        "tf.test.gpu_device_name()"
      ],
      "execution_count": 2,
      "outputs": [
        {
          "output_type": "execute_result",
          "data": {
            "application/vnd.google.colaboratory.intrinsic+json": {
              "type": "string"
            },
            "text/plain": [
              "'/device:GPU:0'"
            ]
          },
          "metadata": {},
          "execution_count": 2
        }
      ]
    },
    {
      "cell_type": "code",
      "metadata": {
        "colab": {
          "base_uri": "https://localhost:8080/"
        },
        "id": "9fVZyXgFa85B",
        "outputId": "0589fcb0-4958-41ff-c5eb-632c0e444994"
      },
      "source": [
        "# Connect to my drive \n",
        "\n",
        "from google.colab import drive\n",
        "drive.mount('/content/drive/')"
      ],
      "execution_count": 3,
      "outputs": [
        {
          "output_type": "stream",
          "name": "stdout",
          "text": [
            "Mounted at /content/drive/\n"
          ]
        }
      ]
    },
    {
      "cell_type": "code",
      "metadata": {
        "id": "1g6ZjOhRb5y7"
      },
      "source": [
        "# Change current directory \n",
        "os.chdir(\"drive/My Drive/Colab Notebooks\")"
      ],
      "execution_count": 4,
      "outputs": []
    },
    {
      "cell_type": "markdown",
      "metadata": {
        "id": "klwMke2ZWYqk"
      },
      "source": [
        "## Step 1 : Load data"
      ]
    },
    {
      "cell_type": "code",
      "metadata": {
        "colab": {
          "base_uri": "https://localhost:8080/",
          "height": 269
        },
        "id": "3kevxI8ClkI6",
        "outputId": "ffdfa76c-e51e-40c6-b77e-914f9f7489c3"
      },
      "source": [
        "# Read dataset summary\n",
        "\n",
        "pd.read_csv('archive/Chest_xray_Corona_dataset_Summary.csv', index_col=0)"
      ],
      "execution_count": 5,
      "outputs": [
        {
          "output_type": "execute_result",
          "data": {
            "text/html": [
              "<div>\n",
              "<style scoped>\n",
              "    .dataframe tbody tr th:only-of-type {\n",
              "        vertical-align: middle;\n",
              "    }\n",
              "\n",
              "    .dataframe tbody tr th {\n",
              "        vertical-align: top;\n",
              "    }\n",
              "\n",
              "    .dataframe thead th {\n",
              "        text-align: right;\n",
              "    }\n",
              "</style>\n",
              "<table border=\"1\" class=\"dataframe\">\n",
              "  <thead>\n",
              "    <tr style=\"text-align: right;\">\n",
              "      <th></th>\n",
              "      <th>Label</th>\n",
              "      <th>Label_1_Virus_category</th>\n",
              "      <th>Label_2_Virus_category</th>\n",
              "      <th>Image_Count</th>\n",
              "    </tr>\n",
              "  </thead>\n",
              "  <tbody>\n",
              "    <tr>\n",
              "      <th>0</th>\n",
              "      <td>Normal</td>\n",
              "      <td>NaN</td>\n",
              "      <td>NaN</td>\n",
              "      <td>1576</td>\n",
              "    </tr>\n",
              "    <tr>\n",
              "      <th>1</th>\n",
              "      <td>Pnemonia</td>\n",
              "      <td>Stress-Smoking</td>\n",
              "      <td>ARDS</td>\n",
              "      <td>2</td>\n",
              "    </tr>\n",
              "    <tr>\n",
              "      <th>2</th>\n",
              "      <td>Pnemonia</td>\n",
              "      <td>Virus</td>\n",
              "      <td>NaN</td>\n",
              "      <td>1493</td>\n",
              "    </tr>\n",
              "    <tr>\n",
              "      <th>3</th>\n",
              "      <td>Pnemonia</td>\n",
              "      <td>Virus</td>\n",
              "      <td>COVID-19</td>\n",
              "      <td>58</td>\n",
              "    </tr>\n",
              "    <tr>\n",
              "      <th>4</th>\n",
              "      <td>Pnemonia</td>\n",
              "      <td>Virus</td>\n",
              "      <td>SARS</td>\n",
              "      <td>4</td>\n",
              "    </tr>\n",
              "    <tr>\n",
              "      <th>5</th>\n",
              "      <td>Pnemonia</td>\n",
              "      <td>bacteria</td>\n",
              "      <td>NaN</td>\n",
              "      <td>2772</td>\n",
              "    </tr>\n",
              "    <tr>\n",
              "      <th>6</th>\n",
              "      <td>Pnemonia</td>\n",
              "      <td>bacteria</td>\n",
              "      <td>Streptococcus</td>\n",
              "      <td>5</td>\n",
              "    </tr>\n",
              "  </tbody>\n",
              "</table>\n",
              "</div>"
            ],
            "text/plain": [
              "      Label Label_1_Virus_category Label_2_Virus_category  Image_Count\n",
              "0    Normal                    NaN                    NaN         1576\n",
              "1  Pnemonia         Stress-Smoking                   ARDS            2\n",
              "2  Pnemonia                  Virus                    NaN         1493\n",
              "3  Pnemonia                  Virus               COVID-19           58\n",
              "4  Pnemonia                  Virus                   SARS            4\n",
              "5  Pnemonia               bacteria                    NaN         2772\n",
              "6  Pnemonia               bacteria          Streptococcus            5"
            ]
          },
          "metadata": {},
          "execution_count": 5
        }
      ]
    },
    {
      "cell_type": "code",
      "metadata": {
        "colab": {
          "base_uri": "https://localhost:8080/",
          "height": 423
        },
        "id": "z66gKJJimBoo",
        "outputId": "b5c1c090-fde2-40bf-902e-0fecf89f0dd3"
      },
      "source": [
        "# Read meta data \n",
        "\n",
        "meta_data = pd.read_csv('archive/Chest_xray_Corona_Metadata.csv', index_col=0)\n",
        "meta_data"
      ],
      "execution_count": 6,
      "outputs": [
        {
          "output_type": "execute_result",
          "data": {
            "text/html": [
              "<div>\n",
              "<style scoped>\n",
              "    .dataframe tbody tr th:only-of-type {\n",
              "        vertical-align: middle;\n",
              "    }\n",
              "\n",
              "    .dataframe tbody tr th {\n",
              "        vertical-align: top;\n",
              "    }\n",
              "\n",
              "    .dataframe thead th {\n",
              "        text-align: right;\n",
              "    }\n",
              "</style>\n",
              "<table border=\"1\" class=\"dataframe\">\n",
              "  <thead>\n",
              "    <tr style=\"text-align: right;\">\n",
              "      <th></th>\n",
              "      <th>X_ray_image_name</th>\n",
              "      <th>Label</th>\n",
              "      <th>Dataset_type</th>\n",
              "      <th>Label_2_Virus_category</th>\n",
              "      <th>Label_1_Virus_category</th>\n",
              "    </tr>\n",
              "  </thead>\n",
              "  <tbody>\n",
              "    <tr>\n",
              "      <th>0</th>\n",
              "      <td>IM-0128-0001.jpeg</td>\n",
              "      <td>Normal</td>\n",
              "      <td>TRAIN</td>\n",
              "      <td>NaN</td>\n",
              "      <td>NaN</td>\n",
              "    </tr>\n",
              "    <tr>\n",
              "      <th>1</th>\n",
              "      <td>IM-0127-0001.jpeg</td>\n",
              "      <td>Normal</td>\n",
              "      <td>TRAIN</td>\n",
              "      <td>NaN</td>\n",
              "      <td>NaN</td>\n",
              "    </tr>\n",
              "    <tr>\n",
              "      <th>2</th>\n",
              "      <td>IM-0125-0001.jpeg</td>\n",
              "      <td>Normal</td>\n",
              "      <td>TRAIN</td>\n",
              "      <td>NaN</td>\n",
              "      <td>NaN</td>\n",
              "    </tr>\n",
              "    <tr>\n",
              "      <th>3</th>\n",
              "      <td>IM-0122-0001.jpeg</td>\n",
              "      <td>Normal</td>\n",
              "      <td>TRAIN</td>\n",
              "      <td>NaN</td>\n",
              "      <td>NaN</td>\n",
              "    </tr>\n",
              "    <tr>\n",
              "      <th>4</th>\n",
              "      <td>IM-0119-0001.jpeg</td>\n",
              "      <td>Normal</td>\n",
              "      <td>TRAIN</td>\n",
              "      <td>NaN</td>\n",
              "      <td>NaN</td>\n",
              "    </tr>\n",
              "    <tr>\n",
              "      <th>...</th>\n",
              "      <td>...</td>\n",
              "      <td>...</td>\n",
              "      <td>...</td>\n",
              "      <td>...</td>\n",
              "      <td>...</td>\n",
              "    </tr>\n",
              "    <tr>\n",
              "      <th>5928</th>\n",
              "      <td>person1637_virus_2834.jpeg</td>\n",
              "      <td>Pnemonia</td>\n",
              "      <td>TEST</td>\n",
              "      <td>NaN</td>\n",
              "      <td>Virus</td>\n",
              "    </tr>\n",
              "    <tr>\n",
              "      <th>5929</th>\n",
              "      <td>person1635_virus_2831.jpeg</td>\n",
              "      <td>Pnemonia</td>\n",
              "      <td>TEST</td>\n",
              "      <td>NaN</td>\n",
              "      <td>Virus</td>\n",
              "    </tr>\n",
              "    <tr>\n",
              "      <th>5930</th>\n",
              "      <td>person1634_virus_2830.jpeg</td>\n",
              "      <td>Pnemonia</td>\n",
              "      <td>TEST</td>\n",
              "      <td>NaN</td>\n",
              "      <td>Virus</td>\n",
              "    </tr>\n",
              "    <tr>\n",
              "      <th>5931</th>\n",
              "      <td>person1633_virus_2829.jpeg</td>\n",
              "      <td>Pnemonia</td>\n",
              "      <td>TEST</td>\n",
              "      <td>NaN</td>\n",
              "      <td>Virus</td>\n",
              "    </tr>\n",
              "    <tr>\n",
              "      <th>5932</th>\n",
              "      <td>person1632_virus_2827.jpeg</td>\n",
              "      <td>Pnemonia</td>\n",
              "      <td>TEST</td>\n",
              "      <td>NaN</td>\n",
              "      <td>Virus</td>\n",
              "    </tr>\n",
              "  </tbody>\n",
              "</table>\n",
              "<p>5910 rows × 5 columns</p>\n",
              "</div>"
            ],
            "text/plain": [
              "                X_ray_image_name  ... Label_1_Virus_category\n",
              "0              IM-0128-0001.jpeg  ...                    NaN\n",
              "1              IM-0127-0001.jpeg  ...                    NaN\n",
              "2              IM-0125-0001.jpeg  ...                    NaN\n",
              "3              IM-0122-0001.jpeg  ...                    NaN\n",
              "4              IM-0119-0001.jpeg  ...                    NaN\n",
              "...                          ...  ...                    ...\n",
              "5928  person1637_virus_2834.jpeg  ...                  Virus\n",
              "5929  person1635_virus_2831.jpeg  ...                  Virus\n",
              "5930  person1634_virus_2830.jpeg  ...                  Virus\n",
              "5931  person1633_virus_2829.jpeg  ...                  Virus\n",
              "5932  person1632_virus_2827.jpeg  ...                  Virus\n",
              "\n",
              "[5910 rows x 5 columns]"
            ]
          },
          "metadata": {},
          "execution_count": 6
        }
      ]
    },
    {
      "cell_type": "code",
      "metadata": {
        "colab": {
          "base_uri": "https://localhost:8080/",
          "height": 273
        },
        "id": "gNfQLDL5Jym-",
        "outputId": "ea3cf4df-e385-42b2-d6ed-3c7391f60fb9"
      },
      "source": [
        "# Show healthy chest X-rays\n",
        "\n",
        "healthy = Image.open('archive/Coronahack-Chest-XRay-Dataset/Coronahack-Chest-XRay-Dataset/train/NORMAL2-IM-0539-0001.jpeg')\n",
        "healthy.resize((256,256))"
      ],
      "execution_count": null,
      "outputs": [
        {
          "output_type": "execute_result",
          "data": {
            "image/png": "[encoded data removed]",
            "text/plain": [
              "<PIL.Image.Image image mode=L size=256x256 at 0x7F01E1AF8950>"
            ]
          },
          "metadata": {},
          "execution_count": 7
        }
      ]
    },
    {
      "cell_type": "code",
      "metadata": {
        "colab": {
          "base_uri": "https://localhost:8080/",
          "height": 273
        },
        "id": "gGQbzbHoPDuf",
        "outputId": "5fc63310-4e70-46cb-9a57-2c1b512aae78"
      },
      "source": [
        "# Show ill chest X-rays\n",
        "\n",
        "ill = Image.open('archive/Coronahack-Chest-XRay-Dataset/Coronahack-Chest-XRay-Dataset/test/person1635_virus_2831.jpeg')\n",
        "ill.resize((256,256))"
      ],
      "execution_count": null,
      "outputs": [
        {
          "output_type": "execute_result",
          "data": {
            "image/png": "[encoded data removed]",
            "text/plain": [
              "<PIL.Image.Image image mode=L size=256x256 at 0x7F01E19F4150>"
            ]
          },
          "metadata": {},
          "execution_count": 10
        }
      ]
    },
    {
      "cell_type": "code",
      "metadata": {
        "colab": {
          "base_uri": "https://localhost:8080/"
        },
        "id": "ZoyQEcJ3s4XC",
        "outputId": "c9f02b0c-eff2-4ec3-b48e-739711923c67"
      },
      "source": [
        "# Count images in training and testing datasets\n",
        "\n",
        "meta_data.Dataset_type.value_counts()"
      ],
      "execution_count": null,
      "outputs": [
        {
          "output_type": "execute_result",
          "data": {
            "text/plain": [
              "TRAIN    5286\n",
              "TEST      624\n",
              "Name: Dataset_type, dtype: int64"
            ]
          },
          "metadata": {},
          "execution_count": 10
        }
      ]
    },
    {
      "cell_type": "code",
      "metadata": {
        "colab": {
          "base_uri": "https://localhost:8080/"
        },
        "id": "TrPWoezfACDx",
        "outputId": "732fc77e-7097-4438-f70e-654b888add95"
      },
      "source": [
        "# Check proportion of patients with pnemonia in the TRAIN dataset\n",
        " \n",
        "len(meta_data[(meta_data.Dataset_type == 'TRAIN') & (meta_data.Label == 'Pnemonia')])/len(meta_data[(meta_data.Dataset_type == 'TRAIN')])"
      ],
      "execution_count": null,
      "outputs": [
        {
          "output_type": "execute_result",
          "data": {
            "text/plain": [
              "0.7461218312523648"
            ]
          },
          "metadata": {},
          "execution_count": 9
        }
      ]
    },
    {
      "cell_type": "markdown",
      "metadata": {
        "id": "EiFUBzSfBhUs"
      },
      "source": [
        "The dataset is hence highly unbalanced between healthy and ill patients. 74% of the dataset are X-rays with pnemonia."
      ]
    },
    {
      "cell_type": "code",
      "metadata": {
        "id": "dg0jkBnOtPYr"
      },
      "source": [
        "# Define training and validation dataframes\n",
        "\n",
        "TRAIN = meta_data.loc[meta_data.Dataset_type==\"TRAIN\"]\n",
        "valdf = TRAIN.sample(frac=0.2)\n",
        "traindf = TRAIN[~TRAIN.index.isin(valdf.index)].sample(frac=1)"
      ],
      "execution_count": 7,
      "outputs": []
    },
    {
      "cell_type": "markdown",
      "metadata": {
        "id": "hNcAZOXrCJdb"
      },
      "source": [
        "We keep **20 % of our training set for validation**. Both training and validation sets are shuffled to avoid any kind of bais. "
      ]
    },
    {
      "cell_type": "code",
      "metadata": {
        "colab": {
          "base_uri": "https://localhost:8080/"
        },
        "id": "-OWNWmvOki8Z",
        "outputId": "abc26283-60ee-4463-9c9a-2cfb9de72c8d"
      },
      "source": [
        "# Check dimensions\n",
        "\n",
        "len(valdf)+len(traindf)==len(TRAIN)"
      ],
      "execution_count": 8,
      "outputs": [
        {
          "output_type": "execute_result",
          "data": {
            "text/plain": [
              "True"
            ]
          },
          "metadata": {},
          "execution_count": 8
        }
      ]
    },
    {
      "cell_type": "code",
      "metadata": {
        "id": "UOLwdRPftRjv"
      },
      "source": [
        "# Define testing dataframe similarly\n",
        "\n",
        "testdf = meta_data.loc[meta_data.Dataset_type==\"TEST\"].sample(frac=1)"
      ],
      "execution_count": 9,
      "outputs": []
    },
    {
      "cell_type": "code",
      "metadata": {
        "colab": {
          "base_uri": "https://localhost:8080/"
        },
        "id": "ZtRsKxQtw-wW",
        "outputId": "9f4bbaa8-8788-482e-e2b7-cf89eebf812f"
      },
      "source": [
        "from keras_preprocessing.image import ImageDataGenerator\n",
        "\n",
        "# Train generator\n",
        "\n",
        "train_datagen = ImageDataGenerator(rescale = 1./255.)\n",
        "\n",
        "train_generator = train_datagen.flow_from_dataframe(\n",
        "    dataframe = traindf,\n",
        "    directory = 'archive/Coronahack-Chest-XRay-Dataset/Coronahack-Chest-XRay-Dataset/train',\n",
        "    x_col = 'X_ray_image_name',\n",
        "    y_col = 'Label',\n",
        "    batch_size = 32,\n",
        "    seed = 42, \n",
        "    #shuffle = True,\n",
        "    classes=['Normal', 'Pnemonia'],\n",
        "    class_mode='binary',\n",
        "    target_size = (256, 256))\n",
        "\n",
        "\n",
        "# Validation generator \n",
        "\n",
        "val_datagen = ImageDataGenerator(rescale = 1./255.)\n",
        "\n",
        "valid_generator = val_datagen.flow_from_dataframe(\n",
        "    dataframe = valdf,\n",
        "    directory = 'archive/Coronahack-Chest-XRay-Dataset/Coronahack-Chest-XRay-Dataset/train',\n",
        "    x_col = 'X_ray_image_name',\n",
        "    y_col = 'Label',\n",
        "    batch_size = 16,\n",
        "    seed = 42,\n",
        "    #shuffle = True,\n",
        "    classes=['Normal', 'Pnemonia'],\n",
        "    class_mode='binary',\n",
        "    target_size = (256, 256))\n",
        "\n",
        "# Test generator\n",
        "\n",
        "test_datagen = ImageDataGenerator(rescale = 1./255.)\n",
        "\n",
        "test_generator = test_datagen.flow_from_dataframe(\n",
        "    dataframe = testdf,\n",
        "    directory = 'archive/Coronahack-Chest-XRay-Dataset/Coronahack-Chest-XRay-Dataset/test',\n",
        "    x_col = 'X_ray_image_name',\n",
        "    y_col = 'Label',\n",
        "    batch_size = 32,\n",
        "    seed = 42, \n",
        "    shuffle = True,\n",
        "    classes=['Normal', 'Pnemonia'],\n",
        "    class_mode='binary',\n",
        "    target_size = (256, 256))"
      ],
      "execution_count": 10,
      "outputs": [
        {
          "output_type": "stream",
          "name": "stdout",
          "text": [
            "Found 4229 validated image filenames belonging to 2 classes.\n",
            "Found 1057 validated image filenames belonging to 2 classes.\n",
            "Found 624 validated image filenames belonging to 2 classes.\n"
          ]
        }
      ]
    },
    {
      "cell_type": "code",
      "metadata": {
        "colab": {
          "base_uri": "https://localhost:8080/"
        },
        "id": "UWsYl4VzrNKy",
        "outputId": "1e0c9ab1-2320-43db-85ea-438dfe25ac46"
      },
      "source": [
        "test_generator.class_indices"
      ],
      "execution_count": 11,
      "outputs": [
        {
          "output_type": "execute_result",
          "data": {
            "text/plain": [
              "{'Normal': 0, 'Pnemonia': 1}"
            ]
          },
          "metadata": {},
          "execution_count": 11
        }
      ]
    },
    {
      "cell_type": "markdown",
      "metadata": {
        "id": "2h_zea6NWbQM"
      },
      "source": [
        "##Step 2 : Models "
      ]
    },
    {
      "cell_type": "code",
      "metadata": {
        "id": "7W0e6XoGdMbe"
      },
      "source": [
        "from tensorflow import keras\n",
        "from tensorflow.keras import layers"
      ],
      "execution_count": 37,
      "outputs": []
    },
    {
      "cell_type": "markdown",
      "metadata": {
        "id": "9Ul3YpCzDNMa"
      },
      "source": [
        "###Model 1 : use transfer learning with Resnet50"
      ]
    },
    {
      "cell_type": "markdown",
      "metadata": {
        "id": "x3ef1jDpHfVT"
      },
      "source": [
        "####Define model\n"
      ]
    },
    {
      "cell_type": "code",
      "metadata": {
        "id": "grmxEhFbIsfm"
      },
      "source": [
        "# Load pre-trained base : Resnet50, without the fully-connected layer at the top, with the weights when trained on ImageNet\n",
        "\n",
        "input_t = tf.keras.Input(shape=(256,256,3))\n",
        "pretrained_base = tf.keras.applications.ResNet50(include_top = False, weights = 'imagenet', input_tensor= input_t)"
      ],
      "execution_count": null,
      "outputs": []
    },
    {
      "cell_type": "code",
      "metadata": {
        "id": "OFph8orfJkz2"
      },
      "source": [
        "# Set this pre-trained base to be trainable\n",
        "\n",
        "pretrained_base.trainable = True"
      ],
      "execution_count": null,
      "outputs": []
    },
    {
      "cell_type": "code",
      "metadata": {
        "id": "2ZE18viEJwgt"
      },
      "source": [
        "# Add to this pre-trained base a filly-connected layer that will classify the features extracted by the Resnet50\n",
        "\n",
        "model = keras.Sequential([\n",
        "    pretrained_base,\n",
        "    layers.Flatten(),\n",
        "    layers.Dropout(0.3, input_shape=(10,)),\n",
        "    layers.Dense(10, activation='relu'),\n",
        "    layers.Dense(1, activation='sigmoid'),\n",
        "])"
      ],
      "execution_count": null,
      "outputs": []
    },
    {
      "cell_type": "code",
      "metadata": {
        "colab": {
          "base_uri": "https://localhost:8080/"
        },
        "id": "XpW0xZvHrCK5",
        "outputId": "9076e64b-c30d-406b-d2b2-7742f826b95a"
      },
      "source": [
        "# Summary of trainable and non-trainable layers \n",
        "\n",
        "for i, layer in enumerate(model.layers):\n",
        "  print(i,layer.name,\"-\",layer.trainable)"
      ],
      "execution_count": null,
      "outputs": [
        {
          "output_type": "stream",
          "name": "stdout",
          "text": [
            "0 resnet50 - True\n",
            "1 flatten_4 - True\n",
            "2 dropout_4 - True\n",
            "3 dense_8 - True\n",
            "4 dense_9 - True\n"
          ]
        }
      ]
    },
    {
      "cell_type": "code",
      "metadata": {
        "colab": {
          "base_uri": "https://localhost:8080/"
        },
        "id": "KUbd1mdJdIN5",
        "outputId": "b6618116-0395-4a60-f41b-93e329b85dac"
      },
      "source": [
        "model.summary()"
      ],
      "execution_count": null,
      "outputs": [
        {
          "output_type": "stream",
          "name": "stdout",
          "text": [
            "Model: \"sequential_4\"\n",
            "_________________________________________________________________\n",
            " Layer (type)                Output Shape              Param #   \n",
            "=================================================================\n",
            " resnet50 (Functional)       (None, 8, 8, 2048)        23587712  \n",
            "                                                                 \n",
            " flatten_4 (Flatten)         (None, 131072)            0         \n",
            "                                                                 \n",
            " dropout_4 (Dropout)         (None, 131072)            0         \n",
            "                                                                 \n",
            " dense_8 (Dense)             (None, 10)                1310730   \n",
            "                                                                 \n",
            " dense_9 (Dense)             (None, 1)                 11        \n",
            "                                                                 \n",
            "=================================================================\n",
            "Total params: 24,898,453\n",
            "Trainable params: 24,845,333\n",
            "Non-trainable params: 53,120\n",
            "_________________________________________________________________\n"
          ]
        }
      ]
    },
    {
      "cell_type": "code",
      "metadata": {
        "id": "WuNYwumITzMy"
      },
      "source": [
        "# Define AUC metric \n",
        "\n",
        "auc = tf.keras.metrics.AUC(\n",
        "    num_thresholds=200, curve='ROC',\n",
        "    summation_method='interpolation', name=None, dtype=None,\n",
        "    thresholds=None, multi_label=False, num_labels=None, label_weights=None,\n",
        "    from_logits=False\n",
        ")"
      ],
      "execution_count": 24,
      "outputs": []
    },
    {
      "cell_type": "code",
      "metadata": {
        "id": "xlmJZZDydFiP"
      },
      "source": [
        "# Compile model \n",
        "\n",
        "with tf.device('/device:GPU:0'):\n",
        "  model.compile(\n",
        "      optimizer=tf.keras.optimizers.Adam(epsilon=1e-5),\n",
        "      loss = 'binary_crossentropy',\n",
        "      metrics = ['accuracy',auc],\n",
        "  )"
      ],
      "execution_count": null,
      "outputs": []
    },
    {
      "cell_type": "markdown",
      "metadata": {
        "id": "nuyVSrxNFKNW"
      },
      "source": [
        "I chose a small learning rate so as not to alter the pre-learned weights too much. \n"
      ]
    },
    {
      "cell_type": "markdown",
      "metadata": {
        "id": "8UrDxTF0HjQW"
      },
      "source": [
        "####Train Model"
      ]
    },
    {
      "cell_type": "code",
      "metadata": {
        "colab": {
          "base_uri": "https://localhost:8080/"
        },
        "id": "5KA7-MlpWutY",
        "outputId": "c71c505d-1bfb-4cc5-9112-104ecf019db4"
      },
      "source": [
        "# Train model with GPU \n",
        "\n",
        "with tf.device('/device:GPU:0'):\n",
        "  history = model.fit(\n",
        "      train_generator,\n",
        "      validation_data=valid_generator,\n",
        "      epochs=50,\n",
        "  )"
      ],
      "execution_count": null,
      "outputs": [
        {
          "output_type": "stream",
          "name": "stdout",
          "text": [
            "Epoch 1/50\n",
            "133/133 [==============================] - 1739s 13s/step - loss: 0.5859 - accuracy: 0.8749 - auc_3: 0.9088 - val_loss: 3.8887 - val_accuracy: 0.7512 - val_auc_3: 0.5000\n",
            "Epoch 2/50\n",
            "133/133 [==============================] - 133s 1s/step - loss: 0.2777 - accuracy: 0.9090 - auc_3: 0.9490 - val_loss: 0.5971 - val_accuracy: 0.7512 - val_auc_3: 0.7525\n",
            "Epoch 3/50\n",
            "133/133 [==============================] - 133s 996ms/step - loss: 0.2023 - accuracy: 0.9612 - auc_3: 0.9783 - val_loss: 1.1617 - val_accuracy: 0.7512 - val_auc_3: 0.6031\n",
            "Epoch 4/50\n",
            "133/133 [==============================] - 133s 996ms/step - loss: 0.2525 - accuracy: 0.9312 - auc_3: 0.9491 - val_loss: 2.0154 - val_accuracy: 0.7512 - val_auc_3: 0.4944\n",
            "Epoch 5/50\n",
            "133/133 [==============================] - 133s 996ms/step - loss: 0.2255 - accuracy: 0.9336 - auc_3: 0.9523 - val_loss: 0.8232 - val_accuracy: 0.2488 - val_auc_3: 0.5000\n",
            "Epoch 6/50\n",
            "133/133 [==============================] - 132s 994ms/step - loss: 0.2257 - accuracy: 0.9184 - auc_3: 0.9474 - val_loss: 0.5438 - val_accuracy: 0.7550 - val_auc_3: 0.6229\n",
            "Epoch 7/50\n",
            "133/133 [==============================] - 133s 995ms/step - loss: 0.1724 - accuracy: 0.9584 - auc_3: 0.9774 - val_loss: 0.3673 - val_accuracy: 0.8098 - val_auc_3: 0.9214\n",
            "Epoch 8/50\n",
            "133/133 [==============================] - 133s 995ms/step - loss: 0.1575 - accuracy: 0.9648 - auc_3: 0.9787 - val_loss: 0.2488 - val_accuracy: 0.9063 - val_auc_3: 0.9780\n",
            "Epoch 9/50\n",
            "133/133 [==============================] - 133s 996ms/step - loss: 0.1377 - accuracy: 0.9738 - auc_3: 0.9878 - val_loss: 0.5434 - val_accuracy: 0.6272 - val_auc_3: 0.7660\n",
            "Epoch 10/50\n",
            "133/133 [==============================] - 133s 995ms/step - loss: 0.1415 - accuracy: 0.9652 - auc_3: 0.9842 - val_loss: 0.3873 - val_accuracy: 0.9035 - val_auc_3: 0.9640\n",
            "Epoch 11/50\n",
            "133/133 [==============================] - 133s 995ms/step - loss: 0.1424 - accuracy: 0.9659 - auc_3: 0.9825 - val_loss: 0.2390 - val_accuracy: 0.8903 - val_auc_3: 0.9346\n",
            "Epoch 12/50\n",
            "133/133 [==============================] - 133s 995ms/step - loss: 0.1194 - accuracy: 0.9773 - auc_3: 0.9874 - val_loss: 0.2539 - val_accuracy: 0.9357 - val_auc_3: 0.9802\n",
            "Epoch 13/50\n",
            "133/133 [==============================] - 133s 995ms/step - loss: 0.1012 - accuracy: 0.9827 - auc_3: 0.9923 - val_loss: 0.1398 - val_accuracy: 0.9603 - val_auc_3: 0.9798\n",
            "Epoch 14/50\n",
            "133/133 [==============================] - 133s 996ms/step - loss: 0.1013 - accuracy: 0.9799 - auc_3: 0.9904 - val_loss: 0.3551 - val_accuracy: 0.9026 - val_auc_3: 0.9453\n",
            "Epoch 15/50\n",
            "133/133 [==============================] - 133s 994ms/step - loss: 0.1215 - accuracy: 0.9688 - auc_3: 0.9866 - val_loss: 0.9618 - val_accuracy: 0.4163 - val_auc_3: 0.6140\n",
            "Epoch 16/50\n",
            "133/133 [==============================] - 133s 994ms/step - loss: 0.0923 - accuracy: 0.9818 - auc_3: 0.9942 - val_loss: 1.3098 - val_accuracy: 0.7767 - val_auc_3: 0.7636\n",
            "Epoch 17/50\n",
            "133/133 [==============================] - 132s 994ms/step - loss: 0.0757 - accuracy: 0.9894 - auc_3: 0.9960 - val_loss: 0.1094 - val_accuracy: 0.9735 - val_auc_3: 0.9971\n",
            "Epoch 18/50\n",
            "133/133 [==============================] - 132s 999ms/step - loss: 0.0881 - accuracy: 0.9804 - auc_3: 0.9909 - val_loss: 0.3106 - val_accuracy: 0.9063 - val_auc_3: 0.9656\n",
            "Epoch 19/50\n",
            "133/133 [==============================] - 132s 993ms/step - loss: 0.0678 - accuracy: 0.9896 - auc_3: 0.9961 - val_loss: 1.0910 - val_accuracy: 0.4153 - val_auc_3: 0.6165\n",
            "Epoch 20/50\n",
            "133/133 [==============================] - 132s 994ms/step - loss: 0.0608 - accuracy: 0.9922 - auc_3: 0.9976 - val_loss: 1.4341 - val_accuracy: 0.7559 - val_auc_3: 0.6610\n",
            "Epoch 21/50\n",
            "133/133 [==============================] - 133s 996ms/step - loss: 0.0637 - accuracy: 0.9901 - auc_3: 0.9967 - val_loss: 1.3617 - val_accuracy: 0.7578 - val_auc_3: 0.7385\n",
            "Epoch 22/50\n",
            "133/133 [==============================] - 132s 993ms/step - loss: 0.0581 - accuracy: 0.9915 - auc_3: 0.9968 - val_loss: 0.0882 - val_accuracy: 0.9735 - val_auc_3: 0.9900\n",
            "Epoch 23/50\n",
            "133/133 [==============================] - 133s 995ms/step - loss: 0.0550 - accuracy: 0.9913 - auc_3: 0.9964 - val_loss: 1.2364 - val_accuracy: 0.7815 - val_auc_3: 0.8016\n",
            "Epoch 24/50\n",
            "133/133 [==============================] - 133s 995ms/step - loss: 0.0494 - accuracy: 0.9927 - auc_3: 0.9981 - val_loss: 0.3626 - val_accuracy: 0.9158 - val_auc_3: 0.9559\n",
            "Epoch 25/50\n",
            "133/133 [==============================] - 133s 995ms/step - loss: 0.0462 - accuracy: 0.9924 - auc_3: 0.9980 - val_loss: 0.0609 - val_accuracy: 0.9839 - val_auc_3: 0.9963\n",
            "Epoch 26/50\n",
            "133/133 [==============================] - 133s 996ms/step - loss: 0.0495 - accuracy: 0.9905 - auc_3: 0.9968 - val_loss: 0.3846 - val_accuracy: 0.9026 - val_auc_3: 0.9422\n",
            "Epoch 27/50\n",
            "133/133 [==============================] - 133s 995ms/step - loss: 0.0510 - accuracy: 0.9905 - auc_3: 0.9972 - val_loss: 0.1251 - val_accuracy: 0.9659 - val_auc_3: 0.9830\n",
            "Epoch 28/50\n",
            "133/133 [==============================] - 132s 995ms/step - loss: 0.0453 - accuracy: 0.9917 - auc_3: 0.9961 - val_loss: 0.1258 - val_accuracy: 0.9650 - val_auc_3: 0.9872\n",
            "Epoch 29/50\n",
            "133/133 [==============================] - 133s 996ms/step - loss: 0.0880 - accuracy: 0.9768 - auc_3: 0.9923 - val_loss: 1.4464 - val_accuracy: 0.3974 - val_auc_3: 0.6052\n",
            "Epoch 30/50\n",
            "133/133 [==============================] - 133s 996ms/step - loss: 0.0576 - accuracy: 0.9863 - auc_3: 0.9958 - val_loss: 0.4102 - val_accuracy: 0.9111 - val_auc_3: 0.9244\n",
            "Epoch 31/50\n",
            "133/133 [==============================] - 132s 993ms/step - loss: 0.0527 - accuracy: 0.9872 - auc_3: 0.9954 - val_loss: 0.0732 - val_accuracy: 0.9754 - val_auc_3: 0.9941\n",
            "Epoch 32/50\n",
            "133/133 [==============================] - 132s 994ms/step - loss: 0.0923 - accuracy: 0.9707 - auc_3: 0.9907 - val_loss: 1.7626 - val_accuracy: 0.8240 - val_auc_3: 0.7724\n",
            "Epoch 33/50\n",
            "133/133 [==============================] - 133s 994ms/step - loss: 0.0936 - accuracy: 0.9690 - auc_3: 0.9917 - val_loss: 0.1563 - val_accuracy: 0.9442 - val_auc_3: 0.9886\n",
            "Epoch 34/50\n",
            "133/133 [==============================] - 133s 997ms/step - loss: 0.1196 - accuracy: 0.9532 - auc_3: 0.9865 - val_loss: 1.3005 - val_accuracy: 0.4806 - val_auc_3: 0.4178\n",
            "Epoch 35/50\n",
            "133/133 [==============================] - 132s 992ms/step - loss: 0.0655 - accuracy: 0.9792 - auc_3: 0.9962 - val_loss: 1.0655 - val_accuracy: 0.7692 - val_auc_3: 0.8325\n",
            "Epoch 36/50\n",
            "133/133 [==============================] - 132s 994ms/step - loss: 0.0621 - accuracy: 0.9823 - auc_3: 0.9962 - val_loss: 1.2336 - val_accuracy: 0.5109 - val_auc_3: 0.7262\n",
            "Epoch 37/50\n",
            "133/133 [==============================] - 133s 995ms/step - loss: 0.0383 - accuracy: 0.9903 - auc_3: 0.9985 - val_loss: 2.3271 - val_accuracy: 0.7521 - val_auc_3: 0.5551\n",
            "Epoch 38/50\n",
            "133/133 [==============================] - 133s 994ms/step - loss: 0.0304 - accuracy: 0.9948 - auc_3: 0.9991 - val_loss: 0.2429 - val_accuracy: 0.9120 - val_auc_3: 0.9628\n",
            "Epoch 39/50\n",
            "133/133 [==============================] - 132s 994ms/step - loss: 0.0308 - accuracy: 0.9948 - auc_3: 0.9990 - val_loss: 0.0711 - val_accuracy: 0.9792 - val_auc_3: 0.9908\n",
            "Epoch 40/50\n",
            "133/133 [==============================] - 133s 994ms/step - loss: 0.0265 - accuracy: 0.9967 - auc_3: 0.9991 - val_loss: 0.1123 - val_accuracy: 0.9584 - val_auc_3: 0.9884\n",
            "Epoch 41/50\n",
            "133/133 [==============================] - 132s 992ms/step - loss: 0.0217 - accuracy: 0.9972 - auc_3: 0.9997 - val_loss: 2.5969 - val_accuracy: 0.7559 - val_auc_3: 0.5729\n",
            "Epoch 42/50\n",
            "133/133 [==============================] - 133s 995ms/step - loss: 0.0307 - accuracy: 0.9915 - auc_3: 0.9995 - val_loss: 0.9181 - val_accuracy: 0.8250 - val_auc_3: 0.8648\n",
            "Epoch 43/50\n",
            "133/133 [==============================] - 132s 993ms/step - loss: 0.0284 - accuracy: 0.9939 - auc_3: 0.9991 - val_loss: 0.0760 - val_accuracy: 0.9745 - val_auc_3: 0.9918\n",
            "Epoch 44/50\n",
            "133/133 [==============================] - 132s 994ms/step - loss: 0.0164 - accuracy: 0.9991 - auc_3: 0.9996 - val_loss: 0.0617 - val_accuracy: 0.9792 - val_auc_3: 0.9945\n",
            "Epoch 45/50\n",
            "133/133 [==============================] - 132s 995ms/step - loss: 0.0191 - accuracy: 0.9960 - auc_3: 0.9997 - val_loss: 0.1690 - val_accuracy: 0.9659 - val_auc_3: 0.9781\n",
            "Epoch 46/50\n",
            "133/133 [==============================] - 132s 992ms/step - loss: 0.0166 - accuracy: 0.9981 - auc_3: 0.9996 - val_loss: 0.1611 - val_accuracy: 0.9612 - val_auc_3: 0.9803\n",
            "Epoch 47/50\n",
            "133/133 [==============================] - 132s 989ms/step - loss: 0.0163 - accuracy: 0.9983 - auc_3: 0.9997 - val_loss: 0.3765 - val_accuracy: 0.9451 - val_auc_3: 0.9498\n",
            "Epoch 48/50\n",
            "133/133 [==============================] - 132s 991ms/step - loss: 0.0186 - accuracy: 0.9957 - auc_3: 0.9997 - val_loss: 1.8248 - val_accuracy: 0.7815 - val_auc_3: 0.6806\n",
            "Epoch 49/50\n",
            "133/133 [==============================] - 132s 991ms/step - loss: 0.0194 - accuracy: 0.9972 - auc_3: 0.9992 - val_loss: 0.2536 - val_accuracy: 0.9149 - val_auc_3: 0.9651\n",
            "Epoch 50/50\n",
            "133/133 [==============================] - 132s 993ms/step - loss: 0.0149 - accuracy: 0.9981 - auc_3: 0.9997 - val_loss: 0.9348 - val_accuracy: 0.6935 - val_auc_3: 0.8541\n"
          ]
        }
      ]
    },
    {
      "cell_type": "markdown",
      "metadata": {
        "id": "406S1HFuHpPt"
      },
      "source": [
        "#### Evaluate model "
      ]
    },
    {
      "cell_type": "code",
      "metadata": {
        "id": "T-frc6xIdDVX",
        "colab": {
          "base_uri": "https://localhost:8080/",
          "height": 778
        },
        "outputId": "e6b476d3-ec67-4883-e29f-329528e87086"
      },
      "source": [
        "# Plot loss, val_loss, accuracy and val_accuracy \n",
        "\n",
        "history_frame = pd.DataFrame(history.history)\n",
        "history_frame.loc[:, ['loss', 'val_loss']].plot()\n",
        "history_frame.loc[:, ['accuracy', 'val_accuracy']].plot()\n",
        "history_frame.loc[:, ['auc_3', 'val_auc_3']].plot()"
      ],
      "execution_count": null,
      "outputs": [
        {
          "output_type": "execute_result",
          "data": {
            "text/plain": [
              "<matplotlib.axes._subplots.AxesSubplot at 0x7f01daf73290>"
            ]
          },
          "metadata": {},
          "execution_count": 61
        },
        {
          "output_type": "display_data",
          "data": {
            "image/png": "[encoded data removed]",
            "text/plain": [
              "<Figure size 432x288 with 1 Axes>"
            ]
          },
          "metadata": {
            "needs_background": "light"
          }
        },
        {
          "output_type": "display_data",
          "data": {
            "image/png": "[encoded data removed]",
            "text/plain": [
              "<Figure size 432x288 with 1 Axes>"
            ]
          },
          "metadata": {
            "needs_background": "light"
          }
        },
        {
          "output_type": "display_data",
          "data": {
            "image/png": "[encoded data removed]",
            "text/plain": [
              "<Figure size 432x288 with 1 Axes>"
            ]
          },
          "metadata": {
            "needs_background": "light"
          }
        }
      ]
    },
    {
      "cell_type": "markdown",
      "metadata": {
        "id": "y17fcFIi6VK-"
      },
      "source": [
        "From these curves, we can see that the training phase is very unstable : this model is hence not adapted to our problem. Let's try to design a simpler CNN."
      ]
    },
    {
      "cell_type": "markdown",
      "metadata": {
        "id": "1VKotQBmWgZI"
      },
      "source": [
        "### Hand made model : work in progress"
      ]
    },
    {
      "cell_type": "code",
      "metadata": {
        "id": "M0ffJOLtJ50M"
      },
      "source": [
        "# Define parameters \n",
        "\n",
        "input_shape = (256, 256, 3)\n",
        "classes  = 2\n",
        "epochs = 20\n",
        "batch_size = 32"
      ],
      "execution_count": 29,
      "outputs": []
    },
    {
      "cell_type": "code",
      "metadata": {
        "id": "Pex7fFHPwhYh"
      },
      "source": [
        "callbacks = tf.keras.callbacks.EarlyStopping(monitor='val_loss', patience=3)"
      ],
      "execution_count": 31,
      "outputs": []
    },
    {
      "cell_type": "code",
      "metadata": {
        "id": "QYlryHWa0SLD"
      },
      "source": [
        "from keras.layers import Conv2D, MaxPooling2D,GlobalAveragePooling2D,Activation, Dropout, BatchNormalization, Flatten, Dense, AvgPool2D,MaxPool2D\n",
        "model_hm_2 = keras.Sequential()\n",
        "model_hm_2.add(Conv2D(32, (3, 3), input_shape=input_shape))\n",
        "model_hm_2.add(Activation('relu'))\n",
        "model_hm_2.add(MaxPooling2D(pool_size=(2, 2)))\n",
        "\n",
        "model_hm_2.add(Conv2D(32, (3, 3)))\n",
        "model_hm_2.add(Activation('relu'))\n",
        "model_hm_2.add(MaxPooling2D(pool_size=(2, 2)))\n",
        "\n",
        "\n",
        "model_hm_2.add(Conv2D(64,(3,3)))\n",
        "model_hm_2.add(Activation(\"relu\"))\n",
        "model_hm_2.add(Conv2D(250,(3,3)))\n",
        "model_hm_2.add(Activation(\"relu\"))\n",
        "  \n",
        "model_hm_2.add(Conv2D(128,(3,3)))\n",
        "model_hm_2.add(Activation(\"relu\"))\n",
        "model_hm_2.add(AvgPool2D(2,2))\n",
        "model_hm_2.add(Conv2D(64,(3,3)))\n",
        "model_hm_2.add(Activation(\"relu\"))\n",
        "model_hm_2.add(AvgPool2D(2,2))\n",
        "\n",
        "model_hm_2.add(Conv2D(256,(2,2)))\n",
        "model_hm_2.add(Activation(\"relu\"))\n",
        "model_hm_2.add(MaxPool2D(2,2))\n",
        "    \n",
        "model_hm_2.add(Flatten())\n",
        "model_hm_2.add(Dense(32))\n",
        "model_hm_2.add(Dropout(0.25))\n",
        "model_hm_2.add(Dense(1))\n",
        "model_hm_2.add(Activation(\"sigmoid\"))"
      ],
      "execution_count": 44,
      "outputs": []
    },
    {
      "cell_type": "code",
      "metadata": {
        "id": "zUxdFGDeEV-S",
        "outputId": "e8cd4753-ccb9-4b7d-fab5-cef6ae377140",
        "colab": {
          "base_uri": "https://localhost:8080/"
        }
      },
      "source": [
        "model_hm_2.summary()"
      ],
      "execution_count": 49,
      "outputs": [
        {
          "output_type": "stream",
          "name": "stdout",
          "text": [
            "Model: \"sequential_6\"\n",
            "_________________________________________________________________\n",
            " Layer (type)                Output Shape              Param #   \n",
            "=================================================================\n",
            " conv2d_20 (Conv2D)          (None, 254, 254, 32)      896       \n",
            "                                                                 \n",
            " activation_8 (Activation)   (None, 254, 254, 32)      0         \n",
            "                                                                 \n",
            " max_pooling2d_15 (MaxPoolin  (None, 127, 127, 32)     0         \n",
            " g2D)                                                            \n",
            "                                                                 \n",
            " conv2d_21 (Conv2D)          (None, 125, 125, 32)      9248      \n",
            "                                                                 \n",
            " activation_9 (Activation)   (None, 125, 125, 32)      0         \n",
            "                                                                 \n",
            " max_pooling2d_16 (MaxPoolin  (None, 62, 62, 32)       0         \n",
            " g2D)                                                            \n",
            "                                                                 \n",
            " conv2d_22 (Conv2D)          (None, 60, 60, 64)        18496     \n",
            "                                                                 \n",
            " activation_10 (Activation)  (None, 60, 60, 64)        0         \n",
            "                                                                 \n",
            " conv2d_23 (Conv2D)          (None, 58, 58, 250)       144250    \n",
            "                                                                 \n",
            " activation_11 (Activation)  (None, 58, 58, 250)       0         \n",
            "                                                                 \n",
            " conv2d_24 (Conv2D)          (None, 56, 56, 128)       288128    \n",
            "                                                                 \n",
            " activation_12 (Activation)  (None, 56, 56, 128)       0         \n",
            "                                                                 \n",
            " average_pooling2d_2 (Averag  (None, 28, 28, 128)      0         \n",
            " ePooling2D)                                                     \n",
            "                                                                 \n",
            " conv2d_25 (Conv2D)          (None, 26, 26, 64)        73792     \n",
            "                                                                 \n",
            " activation_13 (Activation)  (None, 26, 26, 64)        0         \n",
            "                                                                 \n",
            " average_pooling2d_3 (Averag  (None, 13, 13, 64)       0         \n",
            " ePooling2D)                                                     \n",
            "                                                                 \n",
            " conv2d_26 (Conv2D)          (None, 12, 12, 256)       65792     \n",
            "                                                                 \n",
            " activation_14 (Activation)  (None, 12, 12, 256)       0         \n",
            "                                                                 \n",
            " max_pooling2d_17 (MaxPoolin  (None, 6, 6, 256)        0         \n",
            " g2D)                                                            \n",
            "                                                                 \n",
            " flatten_4 (Flatten)         (None, 9216)              0         \n",
            "                                                                 \n",
            " dense_8 (Dense)             (None, 32)                294944    \n",
            "                                                                 \n",
            " dropout_1 (Dropout)         (None, 32)                0         \n",
            "                                                                 \n",
            " dense_9 (Dense)             (None, 1)                 33        \n",
            "                                                                 \n",
            " activation_15 (Activation)  (None, 1)                 0         \n",
            "                                                                 \n",
            "=================================================================\n",
            "Total params: 895,579\n",
            "Trainable params: 895,579\n",
            "Non-trainable params: 0\n",
            "_________________________________________________________________\n"
          ]
        }
      ]
    },
    {
      "cell_type": "code",
      "metadata": {
        "id": "491RJL911If6"
      },
      "source": [
        "with tf.device('/device:GPU:0'):\n",
        "  model_hm_2.compile(\n",
        "      optimizer=tf.keras.optimizers.Adam(epsilon=1e-2),\n",
        "      loss = 'binary_crossentropy',\n",
        "      metrics = ['accuracy',auc],\n",
        "  )"
      ],
      "execution_count": 45,
      "outputs": []
    },
    {
      "cell_type": "code",
      "metadata": {
        "id": "nJy257_O1RjG",
        "outputId": "fa7b33ef-c025-417f-dd76-6818f3bf4304",
        "colab": {
          "base_uri": "https://localhost:8080/"
        }
      },
      "source": [
        "with tf.device('/device:GPU:0'):\n",
        "  history_hm_2 = model_hm_2.fit(\n",
        "      train_generator,\n",
        "      validation_data=valid_generator,\n",
        "      epochs=epochs,\n",
        "      callbacks = [callbacks]\n",
        "  )"
      ],
      "execution_count": 46,
      "outputs": [
        {
          "output_type": "stream",
          "name": "stdout",
          "text": [
            "Epoch 1/20\n",
            "133/133 [==============================] - 79s 589ms/step - loss: 0.5793 - accuracy: 0.7463 - auc: 0.5313 - val_loss: 0.5481 - val_accuracy: 0.7455 - val_auc: 0.7885\n",
            "Epoch 2/20\n",
            "133/133 [==============================] - 77s 580ms/step - loss: 0.4224 - accuracy: 0.8089 - auc: 0.8234 - val_loss: 0.3487 - val_accuracy: 0.8269 - val_auc: 0.9518\n",
            "Epoch 3/20\n",
            "133/133 [==============================] - 77s 579ms/step - loss: 0.2486 - accuracy: 0.9068 - auc: 0.9485 - val_loss: 0.1876 - val_accuracy: 0.9139 - val_auc: 0.9730\n",
            "Epoch 4/20\n",
            "133/133 [==============================] - 78s 583ms/step - loss: 0.1831 - accuracy: 0.9340 - auc: 0.9716 - val_loss: 0.1408 - val_accuracy: 0.9404 - val_auc: 0.9837\n",
            "Epoch 5/20\n",
            "133/133 [==============================] - 78s 587ms/step - loss: 0.1484 - accuracy: 0.9485 - auc: 0.9806 - val_loss: 0.1156 - val_accuracy: 0.9546 - val_auc: 0.9910\n",
            "Epoch 6/20\n",
            "133/133 [==============================] - 76s 574ms/step - loss: 0.1320 - accuracy: 0.9520 - auc: 0.9847 - val_loss: 0.0909 - val_accuracy: 0.9612 - val_auc: 0.9899\n",
            "Epoch 7/20\n",
            "133/133 [==============================] - 77s 576ms/step - loss: 0.1436 - accuracy: 0.9506 - auc: 0.9813 - val_loss: 0.0947 - val_accuracy: 0.9650 - val_auc: 0.9924\n",
            "Epoch 8/20\n",
            "133/133 [==============================] - 77s 581ms/step - loss: 0.1254 - accuracy: 0.9551 - auc: 0.9859 - val_loss: 0.1127 - val_accuracy: 0.9584 - val_auc: 0.9927\n",
            "Epoch 9/20\n",
            "133/133 [==============================] - 78s 588ms/step - loss: 0.0994 - accuracy: 0.9650 - auc: 0.9912 - val_loss: 0.0698 - val_accuracy: 0.9707 - val_auc: 0.9962\n",
            "Epoch 10/20\n",
            "133/133 [==============================] - 79s 594ms/step - loss: 0.1036 - accuracy: 0.9631 - auc: 0.9902 - val_loss: 0.0741 - val_accuracy: 0.9745 - val_auc: 0.9954\n",
            "Epoch 11/20\n",
            "133/133 [==============================] - 79s 590ms/step - loss: 0.0993 - accuracy: 0.9631 - auc: 0.9915 - val_loss: 0.1061 - val_accuracy: 0.9555 - val_auc: 0.9968\n",
            "Epoch 12/20\n",
            "133/133 [==============================] - 78s 587ms/step - loss: 0.0886 - accuracy: 0.9662 - auc: 0.9935 - val_loss: 0.0626 - val_accuracy: 0.9745 - val_auc: 0.9972\n",
            "Epoch 13/20\n",
            "133/133 [==============================] - 77s 577ms/step - loss: 0.0796 - accuracy: 0.9721 - auc: 0.9938 - val_loss: 0.0930 - val_accuracy: 0.9678 - val_auc: 0.9963\n",
            "Epoch 14/20\n",
            "133/133 [==============================] - 76s 574ms/step - loss: 0.0785 - accuracy: 0.9712 - auc: 0.9944 - val_loss: 0.0672 - val_accuracy: 0.9726 - val_auc: 0.9964\n",
            "Epoch 15/20\n",
            "133/133 [==============================] - 77s 578ms/step - loss: 0.1010 - accuracy: 0.9652 - auc: 0.9899 - val_loss: 0.0699 - val_accuracy: 0.9697 - val_auc: 0.9975\n"
          ]
        }
      ]
    },
    {
      "cell_type": "code",
      "metadata": {
        "id": "kYEzJFvgKxYy",
        "outputId": "c101b5fb-f4db-4875-a222-07044df20042",
        "colab": {
          "base_uri": "https://localhost:8080/",
          "height": 781
        }
      },
      "source": [
        "# Plot loss, val_loss, accuracy and val_accuracy \n",
        "\n",
        "history_hm_2_frame = pd.DataFrame(history_hm_2.history)\n",
        "history_hm_2_frame.loc[:, ['loss', 'val_loss']].plot()\n",
        "history_hm_2_frame.loc[:, ['accuracy', 'val_accuracy']].plot()\n",
        "history_hm_2_frame.loc[:, ['auc', 'val_auc']].plot()"
      ],
      "execution_count": 47,
      "outputs": [
        {
          "output_type": "execute_result",
          "data": {
            "text/plain": [
              "<matplotlib.axes._subplots.AxesSubplot at 0x7fc05fedfa50>"
            ]
          },
          "metadata": {},
          "execution_count": 47
        },
        {
          "output_type": "display_data",
          "data": {
            "image/png": "[encoded data removed]",
            "text/plain": [
              "<Figure size 432x288 with 1 Axes>"
            ]
          },
          "metadata": {
            "needs_background": "light"
          }
        },
        {
          "output_type": "display_data",
          "data": {
            "image/png": "[encoded data removed]",
            "text/plain": [
              "<Figure size 432x288 with 1 Axes>"
            ]
          },
          "metadata": {
            "needs_background": "light"
          }
        },
        {
          "output_type": "display_data",
          "data": {
            "image/png": "[encoded data removed]",
            "text/plain": [
              "<Figure size 432x288 with 1 Axes>"
            ]
          },
          "metadata": {
            "needs_background": "light"
          }
        }
      ]
    },
    {
      "cell_type": "code",
      "metadata": {
        "id": "SFc6LnpiK4bd",
        "outputId": "46cd4f36-4113-4042-fd22-32003f11b9dc",
        "colab": {
          "base_uri": "https://localhost:8080/"
        }
      },
      "source": [
        "# Evaluate model \n",
        "\n",
        "evaluate_hm_2 = model_hm_2.evaluate(test_generator, verbose=1)"
      ],
      "execution_count": 48,
      "outputs": [
        {
          "output_type": "stream",
          "name": "stdout",
          "text": [
            "20/20 [==============================] - 126s 7s/step - loss: 0.7418 - accuracy: 0.7837 - auc: 0.8898\n"
          ]
        }
      ]
    },
    {
      "cell_type": "code",
      "metadata": {
        "id": "cycd70UEILOk"
      },
      "source": [
        "# Find the best threshold (the threshold that maximises precision and recall)\n",
        "\n",
        "def find_optimal_threshold(precision, recall, threshold):\n",
        "    f1_score = (2 * precision * recall) / (precision + recall)\n",
        "    best_idx = np.argmax(f1_score)\n",
        "    best_threshold = threshold[best_idx]\n",
        "    return best_threshold, best_idx\n",
        "\n",
        "y_true = test_generator.classes\n",
        "y_predict = model_hm_2.predict(test_generator)\n",
        "precision, recall, threshold = precision_recall_curve(y_true, y_predict)\n",
        "best_threshold, best_idx = find_optimal_threshold(precision, recall, threshold)\n",
        "print('Best threshold: {}'.format(best_threshold))"
      ],
      "execution_count": null,
      "outputs": []
    },
    {
      "cell_type": "code",
      "metadata": {
        "id": "HkJWW3b1IeEK"
      },
      "source": [
        "# Plot Precision-Recall curve\n",
        "\n",
        "plt.figure(figsize=(7, 5))\n",
        "auc_score = auc(recall, precision)\n",
        "plt.plot([1, 0], [0, 1], linestyle='--', color='black', label='No skill')\n",
        "plt.plot(recall, precision, linewidth=3, label='ResNet50')\n",
        "plt.plot(recall[best_idx], precision[best_idx], \n",
        "         marker='o', color='black', \n",
        "         label='Best_theshold', linestyle='', markersize='7')\n",
        "plt.xlabel('Recall', size=13)\n",
        "plt.ylabel('Precision', size=13)\n",
        "plt.title('Precision-Recall curve (AUC - {:.4f})'.format(auc_score), size=15)\n",
        "plt.legend()\n",
        "plt.show()"
      ],
      "execution_count": null,
      "outputs": []
    }
  ]
}